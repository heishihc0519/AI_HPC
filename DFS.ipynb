{
 "cells": [
  {
   "cell_type": "code",
   "execution_count": 10,
   "metadata": {
    "collapsed": false
   },
   "outputs": [
    {
     "name": "stdout",
     "output_type": "stream",
     "text": [
      "filename :  g1_1.txt \n",
      "[ 1 2 3 4 5 10 15 20 16 17 18 19 14 9 13 8 12 7 11 6 ]\n",
      "Exection time :  0.00780892372131\n"
     ]
    }
   ],
   "source": [
    "import os\n",
    "import time\n",
    "\n",
    "def print_relation(Matrix):\n",
    "    for i in Matrix:\n",
    "        print i\n",
    "\n",
    "def DFS(point_r, hpc ,found):\n",
    "    if len(hpc) == len(point_r) and point_r[hpc[0]][hpc[-1]] == 1:\n",
    "        found = True\n",
    "        return found\n",
    "    j = 0\n",
    "    for i in point_r[hpc[-1]]:\n",
    "        if i == 1 and j not in hpc:\n",
    "            hpc.append(j)\n",
    "            found = DFS(point_r, hpc, found)\n",
    "            if found:\n",
    "                return hpc\n",
    "            hpc.pop()\n",
    "        j+=1\n",
    "def output_ans(file_name , ans , exec_time):\n",
    "    print \"filename : \",file_name,\"\\n[\",\n",
    "    for i in ans:\n",
    "        print i+1,\n",
    "    print \"]\\nExection time : \",exec_time\n",
    "\n",
    "#input data\n",
    "file_name = 'g1_1.txt'\n",
    "f = open(file_name)\n",
    "data = f.readlines()\n",
    "length = len(data)\n",
    "\n",
    "# init\n",
    "Matrix = []\n",
    "for i in range(length):\n",
    "    point_r = []\n",
    "    for j in range(length):\n",
    "        point_r.append(0)\n",
    "    Matrix.append(point_r)\n",
    "\n",
    "#list trans to matrix\n",
    "for i in data:\n",
    "    point = i.split(\":\")[0]\n",
    "    r = i.split(\":\")[1].split(\",\")\n",
    "    for j in r:\n",
    "        Matrix[int(point)-1][int(j)-1] = 1\n",
    "\n",
    "\n",
    "#print_relation(Matrix)\n",
    "\n",
    "#DFS start\n",
    "t_start = time.time()\n",
    "ans = DFS(Matrix , [0] , False)\n",
    "t_end = time.time()\n",
    "\n",
    "#print ans\n",
    "output_ans(file_name, ans ,t_end - t_start)\n",
    "\n",
    "f.close()\n",
    "\n",
    "    "
   ]
  },
  {
   "cell_type": "code",
   "execution_count": null,
   "metadata": {
    "collapsed": true
   },
   "outputs": [],
   "source": []
  }
 ],
 "metadata": {
  "anaconda-cloud": {},
  "kernelspec": {
   "display_name": "Python 2",
   "language": "python",
   "name": "python2"
  },
  "language_info": {
   "codemirror_mode": {
    "name": "ipython",
    "version": 2
   },
   "file_extension": ".py",
   "mimetype": "text/x-python",
   "name": "python",
   "nbconvert_exporter": "python",
   "pygments_lexer": "ipython2",
   "version": "2.7.12"
  }
 },
 "nbformat": 4,
 "nbformat_minor": 1
}
